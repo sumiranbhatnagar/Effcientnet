{
 "cells": [
  {
   "cell_type": "code",
   "execution_count": 1,
   "id": "a85abfa5",
   "metadata": {
    "_cell_guid": "b1076dfc-b9ad-4769-8c92-a6c4dae69d19",
    "_uuid": "8f2839f25d086af736a60e9eeb907d3b93b6e0e5",
    "execution": {
     "iopub.execute_input": "2022-07-21T10:23:57.313740Z",
     "iopub.status.busy": "2022-07-21T10:23:57.313188Z",
     "iopub.status.idle": "2022-07-21T10:23:57.324846Z",
     "shell.execute_reply": "2022-07-21T10:23:57.323984Z"
    },
    "papermill": {
     "duration": 0.019256,
     "end_time": "2022-07-21T10:23:57.326801",
     "exception": false,
     "start_time": "2022-07-21T10:23:57.307545",
     "status": "completed"
    },
    "tags": []
   },
   "outputs": [],
   "source": [
    "# This Python 3 environment comes with many helpful analytics libraries installed\n",
    "# It is defined by the kaggle/python Docker image: https://github.com/kaggle/docker-python\n",
    "# For example, here's several helpful packages to load\n",
    "\n",
    "import numpy as np # linear algebra\n",
    "import pandas as pd # data processing, CSV file I/O (e.g. pd.read_csv)\n",
    "\n",
    "# Input data files are available in the read-only \"../input/\" directory\n",
    "# For example, running this (by clicking run or pressing Shift+Enter) will list all files under the input directory\n",
    "\n",
    "import os\n",
    "#for dirname, _, filenames in os.walk('/kaggle/input'):\n",
    "  #  for filename in filenames:\n",
    "   #     print(os.path.join(dirname, filename))\n",
    "\n",
    "# You can write up to 20GB to the current directory (/kaggle/working/) that gets preserved as output when you create a version using \"Save & Run All\" \n",
    "# You can also write temporary files to /kaggle/temp/, but they won't be saved outside of the current session"
   ]
  },
  {
   "cell_type": "code",
   "execution_count": 2,
   "id": "7671c161",
   "metadata": {
    "execution": {
     "iopub.execute_input": "2022-07-21T10:23:57.334147Z",
     "iopub.status.busy": "2022-07-21T10:23:57.333908Z",
     "iopub.status.idle": "2022-07-21T10:24:13.228078Z",
     "shell.execute_reply": "2022-07-21T10:24:13.226848Z"
    },
    "papermill": {
     "duration": 15.900639,
     "end_time": "2022-07-21T10:24:13.230651",
     "exception": false,
     "start_time": "2022-07-21T10:23:57.330012",
     "status": "completed"
    },
    "tags": []
   },
   "outputs": [
    {
     "name": "stdout",
     "output_type": "stream",
     "text": [
      "Collecting git+https://github.com/qubvel/segmentation_models\r\n",
      "  Cloning https://github.com/qubvel/segmentation_models to /tmp/pip-req-build-lrpa44ld\r\n",
      "  Running command git clone --filter=blob:none --quiet https://github.com/qubvel/segmentation_models /tmp/pip-req-build-lrpa44ld\r\n",
      "  Resolved https://github.com/qubvel/segmentation_models to commit 94f624b7029deb463c859efbd92fa26f512b52b8\r\n",
      "  Running command git submodule update --init --recursive -q\r\n",
      "  Preparing metadata (setup.py) ... \u001b[?25l-\b \bdone\r\n",
      "\u001b[?25hCollecting keras_applications<=1.0.8,>=1.0.7\r\n",
      "  Downloading Keras_Applications-1.0.8-py3-none-any.whl (50 kB)\r\n",
      "\u001b[2K     \u001b[90m━━━━━━━━━━━━━━━━━━━━━━━━━━━━━━━━━━━━━━━\u001b[0m \u001b[32m50.7/50.7 kB\u001b[0m \u001b[31m415.1 kB/s\u001b[0m eta \u001b[36m0:00:00\u001b[0m\r\n",
      "\u001b[?25hCollecting image-classifiers==1.0.0\r\n",
      "  Downloading image_classifiers-1.0.0-py3-none-any.whl (19 kB)\r\n",
      "Collecting efficientnet==1.0.0\r\n",
      "  Downloading efficientnet-1.0.0-py3-none-any.whl (17 kB)\r\n",
      "Requirement already satisfied: scikit-image in /opt/conda/lib/python3.7/site-packages (from efficientnet==1.0.0->segmentation-models==1.0.1) (0.18.3)\r\n",
      "Requirement already satisfied: numpy>=1.9.1 in /opt/conda/lib/python3.7/site-packages (from keras_applications<=1.0.8,>=1.0.7->segmentation-models==1.0.1) (1.21.6)\r\n",
      "Requirement already satisfied: h5py in /opt/conda/lib/python3.7/site-packages (from keras_applications<=1.0.8,>=1.0.7->segmentation-models==1.0.1) (3.1.0)\r\n",
      "Requirement already satisfied: cached-property in /opt/conda/lib/python3.7/site-packages (from h5py->keras_applications<=1.0.8,>=1.0.7->segmentation-models==1.0.1) (1.5.2)\r\n",
      "Requirement already satisfied: imageio>=2.3.0 in /opt/conda/lib/python3.7/site-packages (from scikit-image->efficientnet==1.0.0->segmentation-models==1.0.1) (2.19.2)\r\n",
      "Requirement already satisfied: PyWavelets>=1.1.1 in /opt/conda/lib/python3.7/site-packages (from scikit-image->efficientnet==1.0.0->segmentation-models==1.0.1) (1.3.0)\r\n",
      "Requirement already satisfied: pillow!=7.1.0,!=7.1.1,>=4.3.0 in /opt/conda/lib/python3.7/site-packages (from scikit-image->efficientnet==1.0.0->segmentation-models==1.0.1) (9.1.1)\r\n",
      "Requirement already satisfied: tifffile>=2019.7.26 in /opt/conda/lib/python3.7/site-packages (from scikit-image->efficientnet==1.0.0->segmentation-models==1.0.1) (2021.11.2)\r\n",
      "Requirement already satisfied: scipy>=1.0.1 in /opt/conda/lib/python3.7/site-packages (from scikit-image->efficientnet==1.0.0->segmentation-models==1.0.1) (1.7.3)\r\n",
      "Requirement already satisfied: networkx>=2.0 in /opt/conda/lib/python3.7/site-packages (from scikit-image->efficientnet==1.0.0->segmentation-models==1.0.1) (2.5)\r\n",
      "Requirement already satisfied: matplotlib!=3.0.0,>=2.0.0 in /opt/conda/lib/python3.7/site-packages (from scikit-image->efficientnet==1.0.0->segmentation-models==1.0.1) (3.5.2)\r\n",
      "Requirement already satisfied: cycler>=0.10 in /opt/conda/lib/python3.7/site-packages (from matplotlib!=3.0.0,>=2.0.0->scikit-image->efficientnet==1.0.0->segmentation-models==1.0.1) (0.11.0)\r\n",
      "Requirement already satisfied: python-dateutil>=2.7 in /opt/conda/lib/python3.7/site-packages (from matplotlib!=3.0.0,>=2.0.0->scikit-image->efficientnet==1.0.0->segmentation-models==1.0.1) (2.8.2)\r\n",
      "Requirement already satisfied: kiwisolver>=1.0.1 in /opt/conda/lib/python3.7/site-packages (from matplotlib!=3.0.0,>=2.0.0->scikit-image->efficientnet==1.0.0->segmentation-models==1.0.1) (1.4.2)\r\n",
      "Requirement already satisfied: fonttools>=4.22.0 in /opt/conda/lib/python3.7/site-packages (from matplotlib!=3.0.0,>=2.0.0->scikit-image->efficientnet==1.0.0->segmentation-models==1.0.1) (4.33.3)\r\n",
      "Requirement already satisfied: packaging>=20.0 in /opt/conda/lib/python3.7/site-packages (from matplotlib!=3.0.0,>=2.0.0->scikit-image->efficientnet==1.0.0->segmentation-models==1.0.1) (21.3)\r\n",
      "Requirement already satisfied: pyparsing>=2.2.1 in /opt/conda/lib/python3.7/site-packages (from matplotlib!=3.0.0,>=2.0.0->scikit-image->efficientnet==1.0.0->segmentation-models==1.0.1) (3.0.9)\r\n",
      "Requirement already satisfied: decorator>=4.3.0 in /opt/conda/lib/python3.7/site-packages (from networkx>=2.0->scikit-image->efficientnet==1.0.0->segmentation-models==1.0.1) (5.1.1)\r\n",
      "Requirement already satisfied: typing-extensions in /opt/conda/lib/python3.7/site-packages (from kiwisolver>=1.0.1->matplotlib!=3.0.0,>=2.0.0->scikit-image->efficientnet==1.0.0->segmentation-models==1.0.1) (4.1.1)\r\n",
      "Requirement already satisfied: six>=1.5 in /opt/conda/lib/python3.7/site-packages (from python-dateutil>=2.7->matplotlib!=3.0.0,>=2.0.0->scikit-image->efficientnet==1.0.0->segmentation-models==1.0.1) (1.16.0)\r\n",
      "Building wheels for collected packages: segmentation-models\r\n",
      "  Building wheel for segmentation-models (setup.py) ... \u001b[?25l-\b \b\\\b \bdone\r\n",
      "\u001b[?25h  Created wheel for segmentation-models: filename=segmentation_models-1.0.1-py3-none-any.whl size=33810 sha256=360f2cf788eb3e825f7cccc2518c91ecfbbf3bd45aece2b6daa6b815c9121597\r\n",
      "  Stored in directory: /tmp/pip-ephem-wheel-cache-kaeexzdp/wheels/02/cd/18/61c0bbb8766acfec68f9d20618886b7b38dfeeb95865b6ba00\r\n",
      "Successfully built segmentation-models\r\n",
      "Installing collected packages: keras_applications, image-classifiers, efficientnet, segmentation-models\r\n",
      "Successfully installed efficientnet-1.0.0 image-classifiers-1.0.0 keras_applications-1.0.8 segmentation-models-1.0.1\r\n",
      "\u001b[33mWARNING: Running pip as the 'root' user can result in broken permissions and conflicting behaviour with the system package manager. It is recommended to use a virtual environment instead: https://pip.pypa.io/warnings/venv\u001b[0m\u001b[33m\r\n",
      "\u001b[0m"
     ]
    }
   ],
   "source": [
    "!pip install git+https://github.com/qubvel/segmentation_models"
   ]
  },
  {
   "cell_type": "code",
   "execution_count": 3,
   "id": "47a55644",
   "metadata": {
    "execution": {
     "iopub.execute_input": "2022-07-21T10:24:13.241872Z",
     "iopub.status.busy": "2022-07-21T10:24:13.241548Z",
     "iopub.status.idle": "2022-07-21T10:24:19.531748Z",
     "shell.execute_reply": "2022-07-21T10:24:19.530603Z"
    },
    "papermill": {
     "duration": 6.298115,
     "end_time": "2022-07-21T10:24:19.533858",
     "exception": false,
     "start_time": "2022-07-21T10:24:13.235743",
     "status": "completed"
    },
    "tags": []
   },
   "outputs": [
    {
     "name": "stdout",
     "output_type": "stream",
     "text": [
      "Segmentation Models: using `keras` framework.\n"
     ]
    },
    {
     "data": {
      "text/plain": [
       "'tf.keras'"
      ]
     },
     "execution_count": 3,
     "metadata": {},
     "output_type": "execute_result"
    }
   ],
   "source": [
    "import segmentation_models as sm\n",
    "\n",
    "sm.set_framework('tf.keras')\n",
    "\n",
    "sm.framework()"
   ]
  },
  {
   "cell_type": "code",
   "execution_count": 4,
   "id": "209dd77c",
   "metadata": {
    "execution": {
     "iopub.execute_input": "2022-07-21T10:24:19.544564Z",
     "iopub.status.busy": "2022-07-21T10:24:19.544056Z",
     "iopub.status.idle": "2022-07-21T10:24:20.618825Z",
     "shell.execute_reply": "2022-07-21T10:24:20.617763Z"
    },
    "papermill": {
     "duration": 1.082978,
     "end_time": "2022-07-21T10:24:20.621568",
     "exception": false,
     "start_time": "2022-07-21T10:24:19.538590",
     "status": "completed"
    },
    "tags": []
   },
   "outputs": [],
   "source": [
    "\n",
    "from sklearn.model_selection import StratifiedShuffleSplit\n",
    "import cv2\n",
    "import albumentations as albu\n",
    "from skimage.transform import resize\n",
    "import numpy as np\n",
    "import pandas as pd\n",
    "import matplotlib.pyplot as plt\n",
    "%matplotlib inline\n",
    "from pylab import rcParams\n",
    "from sklearn.metrics import accuracy_score, confusion_matrix, classification_report\n",
    "from keras.callbacks import Callback, EarlyStopping, ReduceLROnPlateau\n",
    "import tensorflow as tf\n",
    "import keras\n",
    "from keras.models import Sequential, load_model\n",
    "from keras.layers import Dropout, Dense, GlobalAveragePooling2D\n",
    "#from keras.optimizers import Adam\n",
    "import efficientnet.tfkeras as efn\n",
    "#import efficientnet.keras as efn\n",
    "from tensorflow.keras.optimizers import Adam \n",
    "from tensorflow.keras.preprocessing.image import ImageDataGenerator\n",
    "from tensorflow.keras.preprocessing.image import img_to_array, load_img"
   ]
  },
  {
   "cell_type": "code",
   "execution_count": 5,
   "id": "c5f51c3e",
   "metadata": {
    "execution": {
     "iopub.execute_input": "2022-07-21T10:24:20.632210Z",
     "iopub.status.busy": "2022-07-21T10:24:20.631920Z",
     "iopub.status.idle": "2022-07-21T10:24:20.636375Z",
     "shell.execute_reply": "2022-07-21T10:24:20.635454Z"
    },
    "papermill": {
     "duration": 0.011944,
     "end_time": "2022-07-21T10:24:20.638393",
     "exception": false,
     "start_time": "2022-07-21T10:24:20.626449",
     "status": "completed"
    },
    "tags": []
   },
   "outputs": [],
   "source": [
    "bs= 8 # Increase Batch size based on your hardware capacity, if you have powerful GPU try BS=128,256...\n",
    "train_path=r'../input/bird-species-classification-220-categories/Train'\n",
    "test_path=r'../input/bird-species-classification-220-categories/Test'"
   ]
  },
  {
   "cell_type": "code",
   "execution_count": 6,
   "id": "5945510c",
   "metadata": {
    "execution": {
     "iopub.execute_input": "2022-07-21T10:24:20.648419Z",
     "iopub.status.busy": "2022-07-21T10:24:20.648173Z",
     "iopub.status.idle": "2022-07-21T10:24:23.992509Z",
     "shell.execute_reply": "2022-07-21T10:24:23.991246Z"
    },
    "papermill": {
     "duration": 3.352352,
     "end_time": "2022-07-21T10:24:23.995177",
     "exception": false,
     "start_time": "2022-07-21T10:24:20.642825",
     "status": "completed"
    },
    "tags": []
   },
   "outputs": [
    {
     "name": "stdout",
     "output_type": "stream",
     "text": [
      "Found 9414 images belonging to 200 classes.\n",
      "Found 2374 images belonging to 200 classes.\n"
     ]
    }
   ],
   "source": [
    "train_gen=ImageDataGenerator(rescale=1./255, rotation_range = 40,\n",
    "                                   width_shift_range = 0.2,\n",
    "                                   height_shift_range = 0.2,\n",
    "                                   shear_range = 0.2,\n",
    "                                   zoom_range = 0.2,\n",
    "                                   horizontal_flip = True)\n",
    "Data_train=train_gen.flow_from_directory(train_path,target_size=(224,224),class_mode='categorical',batch_size=bs)\n",
    "\n",
    "test_gen=ImageDataGenerator(rescale=1./255)\n",
    "Data_test=test_gen.flow_from_directory(test_path,target_size=(224,224),class_mode='categorical',batch_size=bs)"
   ]
  },
  {
   "cell_type": "code",
   "execution_count": 7,
   "id": "27afcac8",
   "metadata": {
    "execution": {
     "iopub.execute_input": "2022-07-21T10:24:24.007150Z",
     "iopub.status.busy": "2022-07-21T10:24:24.006305Z",
     "iopub.status.idle": "2022-07-21T10:24:44.337407Z",
     "shell.execute_reply": "2022-07-21T10:24:44.335084Z"
    },
    "papermill": {
     "duration": 20.339376,
     "end_time": "2022-07-21T10:24:44.340019",
     "exception": false,
     "start_time": "2022-07-21T10:24:24.000643",
     "status": "completed"
    },
    "tags": []
   },
   "outputs": [
    {
     "name": "stderr",
     "output_type": "stream",
     "text": [
      "2022-07-21 10:24:24.113668: I tensorflow/stream_executor/cuda/cuda_gpu_executor.cc:937] successful NUMA node read from SysFS had negative value (-1), but there must be at least one NUMA node, so returning NUMA node zero\n",
      "2022-07-21 10:24:24.229367: I tensorflow/stream_executor/cuda/cuda_gpu_executor.cc:937] successful NUMA node read from SysFS had negative value (-1), but there must be at least one NUMA node, so returning NUMA node zero\n",
      "2022-07-21 10:24:24.230237: I tensorflow/stream_executor/cuda/cuda_gpu_executor.cc:937] successful NUMA node read from SysFS had negative value (-1), but there must be at least one NUMA node, so returning NUMA node zero\n",
      "2022-07-21 10:24:24.231834: I tensorflow/core/platform/cpu_feature_guard.cc:142] This TensorFlow binary is optimized with oneAPI Deep Neural Network Library (oneDNN) to use the following CPU instructions in performance-critical operations:  AVX2 AVX512F FMA\n",
      "To enable them in other operations, rebuild TensorFlow with the appropriate compiler flags.\n",
      "2022-07-21 10:24:24.232164: I tensorflow/stream_executor/cuda/cuda_gpu_executor.cc:937] successful NUMA node read from SysFS had negative value (-1), but there must be at least one NUMA node, so returning NUMA node zero\n",
      "2022-07-21 10:24:24.233300: I tensorflow/stream_executor/cuda/cuda_gpu_executor.cc:937] successful NUMA node read from SysFS had negative value (-1), but there must be at least one NUMA node, so returning NUMA node zero\n",
      "2022-07-21 10:24:24.234362: I tensorflow/stream_executor/cuda/cuda_gpu_executor.cc:937] successful NUMA node read from SysFS had negative value (-1), but there must be at least one NUMA node, so returning NUMA node zero\n",
      "2022-07-21 10:24:26.470685: I tensorflow/stream_executor/cuda/cuda_gpu_executor.cc:937] successful NUMA node read from SysFS had negative value (-1), but there must be at least one NUMA node, so returning NUMA node zero\n",
      "2022-07-21 10:24:26.471593: I tensorflow/stream_executor/cuda/cuda_gpu_executor.cc:937] successful NUMA node read from SysFS had negative value (-1), but there must be at least one NUMA node, so returning NUMA node zero\n",
      "2022-07-21 10:24:26.472293: I tensorflow/stream_executor/cuda/cuda_gpu_executor.cc:937] successful NUMA node read from SysFS had negative value (-1), but there must be at least one NUMA node, so returning NUMA node zero\n",
      "2022-07-21 10:24:26.472911: I tensorflow/core/common_runtime/gpu/gpu_device.cc:1510] Created device /job:localhost/replica:0/task:0/device:GPU:0 with 15403 MB memory:  -> device: 0, name: Tesla P100-PCIE-16GB, pci bus id: 0000:00:04.0, compute capability: 6.0\n"
     ]
    },
    {
     "name": "stdout",
     "output_type": "stream",
     "text": [
      "Downloading data from https://github.com/Callidior/keras-applications/releases/download/efficientnet/efficientnet-b7_weights_tf_dim_ordering_tf_kernels_autoaugment_notop.h5\n",
      "258441216/258434480 [==============================] - 10s 0us/step\n",
      "258449408/258434480 [==============================] - 10s 0us/step\n",
      "Model: \"sequential\"\n",
      "_________________________________________________________________\n",
      "Layer (type)                 Output Shape              Param #   \n",
      "=================================================================\n",
      "efficientnet-b7 (Functional) (None, 7, 7, 2560)        64097680  \n",
      "_________________________________________________________________\n",
      "global_average_pooling2d (Gl (None, 2560)              0         \n",
      "_________________________________________________________________\n",
      "dropout (Dropout)            (None, 2560)              0         \n",
      "_________________________________________________________________\n",
      "dense (Dense)                (None, 200)               512200    \n",
      "=================================================================\n",
      "Total params: 64,609,880\n",
      "Trainable params: 64,299,160\n",
      "Non-trainable params: 310,720\n",
      "_________________________________________________________________\n"
     ]
    }
   ],
   "source": [
    "efnb0 = efn.EfficientNetB7(weights='imagenet', include_top=False, input_shape=(224,224,3), classes= 200)\n",
    "\n",
    "model = Sequential()\n",
    "model.add(efnb0)\n",
    "model.add(GlobalAveragePooling2D())\n",
    "model.add(Dropout(0.5))\n",
    "model.add(Dense(200, activation='softmax'))\n",
    "\n",
    "model.summary()"
   ]
  },
  {
   "cell_type": "code",
   "execution_count": 8,
   "id": "a4e7f355",
   "metadata": {
    "execution": {
     "iopub.execute_input": "2022-07-21T10:24:44.365930Z",
     "iopub.status.busy": "2022-07-21T10:24:44.365447Z",
     "iopub.status.idle": "2022-07-21T10:24:44.391419Z",
     "shell.execute_reply": "2022-07-21T10:24:44.390253Z"
    },
    "papermill": {
     "duration": 0.041034,
     "end_time": "2022-07-21T10:24:44.394029",
     "exception": false,
     "start_time": "2022-07-21T10:24:44.352995",
     "status": "completed"
    },
    "tags": []
   },
   "outputs": [
    {
     "name": "stderr",
     "output_type": "stream",
     "text": [
      "/opt/conda/lib/python3.7/site-packages/keras/optimizer_v2/optimizer_v2.py:356: UserWarning: The `lr` argument is deprecated, use `learning_rate` instead.\n",
      "  \"The `lr` argument is deprecated, use `learning_rate` instead.\")\n"
     ]
    }
   ],
   "source": [
    "optimizer = Adam(lr=0.0001)\n",
    "\n",
    "#early stopping to monitor the validation loss and avoid overfitting\n",
    "early_stop = EarlyStopping(monitor='val_loss', mode='min', verbose=1, patience=10, restore_best_weights=True)\n",
    "\n",
    "#reducing learning rate on plateau\n",
    "rlrop = ReduceLROnPlateau(monitor='val_loss', mode='min', patience= 5, factor= 0.5, min_lr= 1e-6, verbose=1)\n",
    "#model compiling\n",
    "model.compile(optimizer=optimizer, loss='categorical_crossentropy', metrics=['accuracy'])"
   ]
  },
  {
   "cell_type": "code",
   "execution_count": 9,
   "id": "ecf52377",
   "metadata": {
    "execution": {
     "iopub.execute_input": "2022-07-21T10:24:44.418915Z",
     "iopub.status.busy": "2022-07-21T10:24:44.418654Z",
     "iopub.status.idle": "2022-07-21T12:35:27.843549Z",
     "shell.execute_reply": "2022-07-21T12:35:27.842567Z"
    },
    "papermill": {
     "duration": 7843.704045,
     "end_time": "2022-07-21T12:35:28.109923",
     "exception": false,
     "start_time": "2022-07-21T10:24:44.405878",
     "status": "completed"
    },
    "tags": []
   },
   "outputs": [
    {
     "name": "stderr",
     "output_type": "stream",
     "text": [
      "/opt/conda/lib/python3.7/site-packages/keras/engine/training.py:1972: UserWarning: `Model.fit_generator` is deprecated and will be removed in a future version. Please use `Model.fit`, which supports generators.\n",
      "  warnings.warn('`Model.fit_generator` is deprecated and '\n",
      "2022-07-21 10:24:44.683522: I tensorflow/compiler/mlir/mlir_graph_optimization_pass.cc:185] None of the MLIR Optimization Passes are enabled (registered 2)\n"
     ]
    },
    {
     "name": "stdout",
     "output_type": "stream",
     "text": [
      "Epoch 1/25\n"
     ]
    },
    {
     "name": "stderr",
     "output_type": "stream",
     "text": [
      "2022-07-21 10:25:14.070195: I tensorflow/stream_executor/cuda/cuda_dnn.cc:369] Loaded cuDNN version 8005\n"
     ]
    },
    {
     "name": "stdout",
     "output_type": "stream",
     "text": [
      "1177/1177 [==============================] - 521s 412ms/step - loss: 4.5308 - accuracy: 0.0921 - val_loss: 2.7002 - val_accuracy: 0.4103\n",
      "Epoch 2/25\n",
      "1177/1177 [==============================] - 479s 407ms/step - loss: 2.6099 - accuracy: 0.3752 - val_loss: 1.4131 - val_accuracy: 0.6251\n",
      "Epoch 3/25\n",
      "1177/1177 [==============================] - 479s 407ms/step - loss: 1.7837 - accuracy: 0.5440 - val_loss: 0.9971 - val_accuracy: 0.7102\n",
      "Epoch 4/25\n",
      "1177/1177 [==============================] - 478s 406ms/step - loss: 1.3806 - accuracy: 0.6382 - val_loss: 0.8091 - val_accuracy: 0.7679\n",
      "Epoch 5/25\n",
      "1177/1177 [==============================] - 480s 408ms/step - loss: 1.1003 - accuracy: 0.7074 - val_loss: 0.7630 - val_accuracy: 0.7713\n",
      "Epoch 6/25\n",
      "1177/1177 [==============================] - 477s 405ms/step - loss: 0.9328 - accuracy: 0.7388 - val_loss: 0.6871 - val_accuracy: 0.8083\n",
      "Epoch 7/25\n",
      "1177/1177 [==============================] - 475s 404ms/step - loss: 0.7826 - accuracy: 0.7835 - val_loss: 0.7166 - val_accuracy: 0.8050\n",
      "Epoch 8/25\n",
      "1177/1177 [==============================] - 477s 405ms/step - loss: 0.6759 - accuracy: 0.8083 - val_loss: 0.7097 - val_accuracy: 0.8079\n",
      "Epoch 9/25\n",
      "1177/1177 [==============================] - 479s 407ms/step - loss: 0.5998 - accuracy: 0.8283 - val_loss: 0.7334 - val_accuracy: 0.8168\n",
      "Epoch 10/25\n",
      "1177/1177 [==============================] - 479s 407ms/step - loss: 0.5375 - accuracy: 0.8468 - val_loss: 0.7381 - val_accuracy: 0.8159\n",
      "Epoch 11/25\n",
      "1177/1177 [==============================] - 480s 407ms/step - loss: 0.4589 - accuracy: 0.8669 - val_loss: 0.7992 - val_accuracy: 0.8075\n",
      "\n",
      "Epoch 00011: ReduceLROnPlateau reducing learning rate to 4.999999873689376e-05.\n",
      "Epoch 12/25\n",
      "1177/1177 [==============================] - 476s 404ms/step - loss: 0.3576 - accuracy: 0.8965 - val_loss: 0.7079 - val_accuracy: 0.8345\n",
      "Epoch 13/25\n",
      "1177/1177 [==============================] - 476s 404ms/step - loss: 0.2947 - accuracy: 0.9162 - val_loss: 0.7192 - val_accuracy: 0.8378\n",
      "Epoch 14/25\n",
      "1177/1177 [==============================] - 478s 406ms/step - loss: 0.2701 - accuracy: 0.9212 - val_loss: 0.7531 - val_accuracy: 0.8328\n",
      "Epoch 15/25\n",
      "1177/1177 [==============================] - 481s 408ms/step - loss: 0.2514 - accuracy: 0.9315 - val_loss: 0.7937 - val_accuracy: 0.8315\n",
      "Epoch 16/25\n",
      "1177/1177 [==============================] - 479s 407ms/step - loss: 0.2297 - accuracy: 0.9321 - val_loss: 0.7592 - val_accuracy: 0.8399\n",
      "Restoring model weights from the end of the best epoch.\n",
      "\n",
      "Epoch 00016: ReduceLROnPlateau reducing learning rate to 2.499999936844688e-05.\n",
      "Epoch 00016: early stopping\n"
     ]
    }
   ],
   "source": [
    "model_history = model.fit_generator(Data_train, validation_data = Data_test, callbacks = [early_stop, rlrop],verbose = 1, epochs = 25)\n",
    "\n",
    "#saving the trained model weights as data file in .h5 format\n",
    "model.save_weights(\"birds_efficientnetb0_weights.h5\")"
   ]
  },
  {
   "cell_type": "code",
   "execution_count": 10,
   "id": "1a6f6abd",
   "metadata": {
    "execution": {
     "iopub.execute_input": "2022-07-21T12:35:30.748910Z",
     "iopub.status.busy": "2022-07-21T12:35:30.748431Z",
     "iopub.status.idle": "2022-07-21T12:35:48.826362Z",
     "shell.execute_reply": "2022-07-21T12:35:48.825441Z"
    },
    "papermill": {
     "duration": 19.336417,
     "end_time": "2022-07-21T12:35:48.828939",
     "exception": false,
     "start_time": "2022-07-21T12:35:29.492522",
     "status": "completed"
    },
    "tags": []
   },
   "outputs": [
    {
     "data": {
      "image/png": "[encoded data removed]",
      "text/plain": [
       "<Figure size 1296x576 with 2 Axes>"
      ]
     },
     "metadata": {
      "needs_background": "light"
     },
     "output_type": "display_data"
    }
   ],
   "source": [
    "#plot to visualize the loss and accuracy against number of epochs\n",
    "plt.figure(figsize=(18,8))\n",
    "\n",
    "plt.suptitle('Loss and Accuracy Plots', fontsize=18)\n",
    "\n",
    "plt.subplot(1,2,1)\n",
    "plt.plot(model_history.history['loss'], label='Training Loss')\n",
    "plt.plot(model_history.history['val_loss'], label='Validation Loss')\n",
    "plt.legend()\n",
    "plt.xlabel('Number of epochs', fontsize=15)\n",
    "plt.ylabel('Loss', fontsize=15)\n",
    "\n",
    "plt.subplot(1,2,2)\n",
    "plt.plot(model_history.history['accuracy'], label='Train Accuracy')\n",
    "plt.plot(model_history.history['val_accuracy'], label='Validation Accuracy')\n",
    "plt.legend()\n",
    "plt.xlabel('Number of epochs', fontsize=14)\n",
    "plt.ylabel('Accuracy', fontsize=14)\n",
    "plt.show()"
   ]
  },
  {
   "cell_type": "code",
   "execution_count": null,
   "id": "93799cd7",
   "metadata": {
    "papermill": {
     "duration": 1.416599,
     "end_time": "2022-07-21T12:35:51.453376",
     "exception": false,
     "start_time": "2022-07-21T12:35:50.036777",
     "status": "completed"
    },
    "tags": []
   },
   "outputs": [],
   "source": []
  }
 ],
 "metadata": {
  "kernelspec": {
   "display_name": "Python 3",
   "language": "python",
   "name": "python3"
  },
  "language_info": {
   "codemirror_mode": {
    "name": "ipython",
    "version": 3
   },
   "file_extension": ".py",
   "mimetype": "text/x-python",
   "name": "python",
   "nbconvert_exporter": "python",
   "pygments_lexer": "ipython3",
   "version": "3.7.12"
  },
  "papermill": {
   "default_parameters": {},
   "duration": 7927.085526,
   "end_time": "2022-07-21T12:35:56.221005",
   "environment_variables": {},
   "exception": null,
   "input_path": "__notebook__.ipynb",
   "output_path": "__notebook__.ipynb",
   "parameters": {},
   "start_time": "2022-07-21T10:23:49.135479",
   "version": "2.3.4"
  }
 },
 "nbformat": 4,
 "nbformat_minor": 5
}
