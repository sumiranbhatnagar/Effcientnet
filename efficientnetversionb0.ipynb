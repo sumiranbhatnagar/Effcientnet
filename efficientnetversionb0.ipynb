{
 "cells": [
  {
   "cell_type": "code",
   "execution_count": 1,
   "id": "8f100eb4",
   "metadata": {
    "_cell_guid": "b1076dfc-b9ad-4769-8c92-a6c4dae69d19",
    "_uuid": "8f2839f25d086af736a60e9eeb907d3b93b6e0e5",
    "execution": {
     "iopub.execute_input": "2022-08-14T08:13:21.044107Z",
     "iopub.status.busy": "2022-08-14T08:13:21.043463Z",
     "iopub.status.idle": "2022-08-14T08:13:21.065834Z",
     "shell.execute_reply": "2022-08-14T08:13:21.064681Z"
    },
    "papermill": {
     "duration": 0.034116,
     "end_time": "2022-08-14T08:13:21.068554",
     "exception": false,
     "start_time": "2022-08-14T08:13:21.034438",
     "status": "completed"
    },
    "tags": []
   },
   "outputs": [],
   "source": [
    "# This Python 3 environment comes with many helpful analytics libraries installed\n",
    "# It is defined by the kaggle/python Docker image: https://github.com/kaggle/docker-python\n",
    "# For example, here's several helpful packages to load\n",
    "\n",
    "import numpy as np # linear algebra\n",
    "import pandas as pd # data processing, CSV file I/O (e.g. pd.read_csv)\n",
    "\n",
    "# Input data files are available in the read-only \"../input/\" directory\n",
    "# For example, running this (by clicking run or pressing Shift+Enter) will list all files under the input directory\n",
    "\n",
    "import os\n",
    "#for dirname, _, filenames in os.walk('/kaggle/input'):\n",
    "  #  for filename in filenames:\n",
    "   #     print(os.path.join(dirname, filename))\n",
    "\n",
    "# You can write up to 20GB to the current directory (/kaggle/working/) that gets preserved as output when you create a version using \"Save & Run All\" \n",
    "# You can also write temporary files to /kaggle/temp/, but they won't be saved outside of the current session"
   ]
  },
  {
   "cell_type": "code",
   "execution_count": 2,
   "id": "161eb120",
   "metadata": {
    "execution": {
     "iopub.execute_input": "2022-08-14T08:13:21.082285Z",
     "iopub.status.busy": "2022-08-14T08:13:21.080392Z",
     "iopub.status.idle": "2022-08-14T08:13:36.474525Z",
     "shell.execute_reply": "2022-08-14T08:13:36.473399Z"
    },
    "papermill": {
     "duration": 15.401868,
     "end_time": "2022-08-14T08:13:36.477107",
     "exception": false,
     "start_time": "2022-08-14T08:13:21.075239",
     "status": "completed"
    },
    "tags": []
   },
   "outputs": [
    {
     "name": "stdout",
     "output_type": "stream",
     "text": [
      "Collecting git+https://github.com/qubvel/segmentation_models\r\n",
      "  Cloning https://github.com/qubvel/segmentation_models to /tmp/pip-req-build-kms1uv7e\r\n",
      "  Running command git clone --filter=blob:none --quiet https://github.com/qubvel/segmentation_models /tmp/pip-req-build-kms1uv7e\r\n",
      "  Resolved https://github.com/qubvel/segmentation_models to commit e951c6747f75fa9e7240816d1c79dd2e66813123\r\n",
      "  Running command git submodule update --init --recursive -q\r\n",
      "  Preparing metadata (setup.py) ... \u001b[?25l-\b \bdone\r\n",
      "\u001b[?25hCollecting keras_applications<=1.0.8,>=1.0.7\r\n",
      "  Downloading Keras_Applications-1.0.8-py3-none-any.whl (50 kB)\r\n",
      "\u001b[2K     \u001b[90m━━━━━━━━━━━━━━━━━━━━━━━━━━━━━━━━━━━━━━━\u001b[0m \u001b[32m50.7/50.7 kB\u001b[0m \u001b[31m608.7 kB/s\u001b[0m eta \u001b[36m0:00:00\u001b[0m\r\n",
      "\u001b[?25hCollecting image-classifiers==1.0.0\r\n",
      "  Downloading image_classifiers-1.0.0-py3-none-any.whl (19 kB)\r\n",
      "Collecting efficientnet==1.0.0\r\n",
      "  Downloading efficientnet-1.0.0-py3-none-any.whl (17 kB)\r\n",
      "Requirement already satisfied: scikit-image in /opt/conda/lib/python3.7/site-packages (from efficientnet==1.0.0->segmentation-models==1.0.1) (0.18.3)\r\n",
      "Requirement already satisfied: numpy>=1.9.1 in /opt/conda/lib/python3.7/site-packages (from keras_applications<=1.0.8,>=1.0.7->segmentation-models==1.0.1) (1.21.6)\r\n",
      "Requirement already satisfied: h5py in /opt/conda/lib/python3.7/site-packages (from keras_applications<=1.0.8,>=1.0.7->segmentation-models==1.0.1) (3.1.0)\r\n",
      "Requirement already satisfied: cached-property in /opt/conda/lib/python3.7/site-packages (from h5py->keras_applications<=1.0.8,>=1.0.7->segmentation-models==1.0.1) (1.5.2)\r\n",
      "Requirement already satisfied: networkx>=2.0 in /opt/conda/lib/python3.7/site-packages (from scikit-image->efficientnet==1.0.0->segmentation-models==1.0.1) (2.5)\r\n",
      "Requirement already satisfied: tifffile>=2019.7.26 in /opt/conda/lib/python3.7/site-packages (from scikit-image->efficientnet==1.0.0->segmentation-models==1.0.1) (2021.11.2)\r\n",
      "Requirement already satisfied: PyWavelets>=1.1.1 in /opt/conda/lib/python3.7/site-packages (from scikit-image->efficientnet==1.0.0->segmentation-models==1.0.1) (1.3.0)\r\n",
      "Requirement already satisfied: matplotlib!=3.0.0,>=2.0.0 in /opt/conda/lib/python3.7/site-packages (from scikit-image->efficientnet==1.0.0->segmentation-models==1.0.1) (3.5.2)\r\n",
      "Requirement already satisfied: imageio>=2.3.0 in /opt/conda/lib/python3.7/site-packages (from scikit-image->efficientnet==1.0.0->segmentation-models==1.0.1) (2.19.2)\r\n",
      "Requirement already satisfied: pillow!=7.1.0,!=7.1.1,>=4.3.0 in /opt/conda/lib/python3.7/site-packages (from scikit-image->efficientnet==1.0.0->segmentation-models==1.0.1) (9.1.1)\r\n",
      "Requirement already satisfied: scipy>=1.0.1 in /opt/conda/lib/python3.7/site-packages (from scikit-image->efficientnet==1.0.0->segmentation-models==1.0.1) (1.7.3)\r\n",
      "Requirement already satisfied: fonttools>=4.22.0 in /opt/conda/lib/python3.7/site-packages (from matplotlib!=3.0.0,>=2.0.0->scikit-image->efficientnet==1.0.0->segmentation-models==1.0.1) (4.33.3)\r\n",
      "Requirement already satisfied: cycler>=0.10 in /opt/conda/lib/python3.7/site-packages (from matplotlib!=3.0.0,>=2.0.0->scikit-image->efficientnet==1.0.0->segmentation-models==1.0.1) (0.11.0)\r\n",
      "Requirement already satisfied: packaging>=20.0 in /opt/conda/lib/python3.7/site-packages (from matplotlib!=3.0.0,>=2.0.0->scikit-image->efficientnet==1.0.0->segmentation-models==1.0.1) (21.3)\r\n",
      "Requirement already satisfied: kiwisolver>=1.0.1 in /opt/conda/lib/python3.7/site-packages (from matplotlib!=3.0.0,>=2.0.0->scikit-image->efficientnet==1.0.0->segmentation-models==1.0.1) (1.4.2)\r\n",
      "Requirement already satisfied: python-dateutil>=2.7 in /opt/conda/lib/python3.7/site-packages (from matplotlib!=3.0.0,>=2.0.0->scikit-image->efficientnet==1.0.0->segmentation-models==1.0.1) (2.8.2)\r\n",
      "Requirement already satisfied: pyparsing>=2.2.1 in /opt/conda/lib/python3.7/site-packages (from matplotlib!=3.0.0,>=2.0.0->scikit-image->efficientnet==1.0.0->segmentation-models==1.0.1) (3.0.9)\r\n",
      "Requirement already satisfied: decorator>=4.3.0 in /opt/conda/lib/python3.7/site-packages (from networkx>=2.0->scikit-image->efficientnet==1.0.0->segmentation-models==1.0.1) (5.1.1)\r\n",
      "Requirement already satisfied: typing-extensions in /opt/conda/lib/python3.7/site-packages (from kiwisolver>=1.0.1->matplotlib!=3.0.0,>=2.0.0->scikit-image->efficientnet==1.0.0->segmentation-models==1.0.1) (4.1.1)\r\n",
      "Requirement already satisfied: six>=1.5 in /opt/conda/lib/python3.7/site-packages (from python-dateutil>=2.7->matplotlib!=3.0.0,>=2.0.0->scikit-image->efficientnet==1.0.0->segmentation-models==1.0.1) (1.16.0)\r\n",
      "Building wheels for collected packages: segmentation-models\r\n",
      "  Building wheel for segmentation-models (setup.py) ... \u001b[?25l-\b \b\\\b \bdone\r\n",
      "\u001b[?25h  Created wheel for segmentation-models: filename=segmentation_models-1.0.1-py3-none-any.whl size=33810 sha256=9f1d3383a78b65e92b06e009d0dd46f3eddb1d374321ade9409cc1bf420b3992\r\n",
      "  Stored in directory: /tmp/pip-ephem-wheel-cache-fm1h337z/wheels/02/cd/18/61c0bbb8766acfec68f9d20618886b7b38dfeeb95865b6ba00\r\n",
      "Successfully built segmentation-models\r\n",
      "Installing collected packages: keras_applications, image-classifiers, efficientnet, segmentation-models\r\n",
      "Successfully installed efficientnet-1.0.0 image-classifiers-1.0.0 keras_applications-1.0.8 segmentation-models-1.0.1\r\n",
      "\u001b[33mWARNING: Running pip as the 'root' user can result in broken permissions and conflicting behaviour with the system package manager. It is recommended to use a virtual environment instead: https://pip.pypa.io/warnings/venv\u001b[0m\u001b[33m\r\n",
      "\u001b[0m"
     ]
    }
   ],
   "source": [
    "!pip install git+https://github.com/qubvel/segmentation_models"
   ]
  },
  {
   "cell_type": "code",
   "execution_count": 3,
   "id": "e31a19b9",
   "metadata": {
    "execution": {
     "iopub.execute_input": "2022-08-14T08:13:36.486895Z",
     "iopub.status.busy": "2022-08-14T08:13:36.486546Z",
     "iopub.status.idle": "2022-08-14T08:13:43.251298Z",
     "shell.execute_reply": "2022-08-14T08:13:43.250295Z"
    },
    "papermill": {
     "duration": 6.771957,
     "end_time": "2022-08-14T08:13:43.253426",
     "exception": false,
     "start_time": "2022-08-14T08:13:36.481469",
     "status": "completed"
    },
    "tags": []
   },
   "outputs": [
    {
     "name": "stdout",
     "output_type": "stream",
     "text": [
      "Segmentation Models: using `keras` framework.\n"
     ]
    },
    {
     "data": {
      "text/plain": [
       "'tf.keras'"
      ]
     },
     "execution_count": 3,
     "metadata": {},
     "output_type": "execute_result"
    }
   ],
   "source": [
    "import segmentation_models as sm\n",
    "\n",
    "sm.set_framework('tf.keras')\n",
    "\n",
    "sm.framework()"
   ]
  },
  {
   "cell_type": "code",
   "execution_count": 4,
   "id": "407a73dd",
   "metadata": {
    "execution": {
     "iopub.execute_input": "2022-08-14T08:13:43.263703Z",
     "iopub.status.busy": "2022-08-14T08:13:43.263157Z",
     "iopub.status.idle": "2022-08-14T08:13:44.352611Z",
     "shell.execute_reply": "2022-08-14T08:13:44.351610Z"
    },
    "papermill": {
     "duration": 1.097141,
     "end_time": "2022-08-14T08:13:44.354978",
     "exception": false,
     "start_time": "2022-08-14T08:13:43.257837",
     "status": "completed"
    },
    "tags": []
   },
   "outputs": [],
   "source": [
    "\n",
    "from sklearn.model_selection import StratifiedShuffleSplit\n",
    "import cv2\n",
    "import albumentations as albu\n",
    "from skimage.transform import resize\n",
    "import numpy as np\n",
    "import pandas as pd\n",
    "import matplotlib.pyplot as plt\n",
    "%matplotlib inline\n",
    "from pylab import rcParams\n",
    "from sklearn.metrics import accuracy_score, confusion_matrix, classification_report\n",
    "from keras.callbacks import Callback, EarlyStopping, ReduceLROnPlateau\n",
    "import tensorflow as tf\n",
    "import keras\n",
    "from keras.models import Sequential, load_model\n",
    "from keras.layers import Dropout, Dense, GlobalAveragePooling2D\n",
    "#from keras.optimizers import Adam\n",
    "import efficientnet.tfkeras as efn\n",
    "#import efficientnet.keras as efn\n",
    "from tensorflow.keras.optimizers import Adam \n",
    "from tensorflow.keras.preprocessing.image import ImageDataGenerator\n",
    "from tensorflow.keras.preprocessing.image import img_to_array, load_img"
   ]
  },
  {
   "cell_type": "code",
   "execution_count": 5,
   "id": "a4828e9e",
   "metadata": {
    "execution": {
     "iopub.execute_input": "2022-08-14T08:13:44.365263Z",
     "iopub.status.busy": "2022-08-14T08:13:44.364973Z",
     "iopub.status.idle": "2022-08-14T08:13:44.370254Z",
     "shell.execute_reply": "2022-08-14T08:13:44.369374Z"
    },
    "papermill": {
     "duration": 0.012264,
     "end_time": "2022-08-14T08:13:44.372167",
     "exception": false,
     "start_time": "2022-08-14T08:13:44.359903",
     "status": "completed"
    },
    "tags": []
   },
   "outputs": [],
   "source": [
    "bs= 8 # Increase Batch size based on your hardware capacity, if you have powerful GPU try BS=128,256...\n",
    "train_path=r'../input/bird-species-classification-220-categories/Train'\n",
    "test_path=r'../input/bird-species-classification-220-categories/Test'"
   ]
  },
  {
   "cell_type": "code",
   "execution_count": 6,
   "id": "c961255c",
   "metadata": {
    "execution": {
     "iopub.execute_input": "2022-08-14T08:13:44.381739Z",
     "iopub.status.busy": "2022-08-14T08:13:44.381253Z",
     "iopub.status.idle": "2022-08-14T08:13:45.858576Z",
     "shell.execute_reply": "2022-08-14T08:13:45.857380Z"
    },
    "papermill": {
     "duration": 1.484929,
     "end_time": "2022-08-14T08:13:45.861219",
     "exception": false,
     "start_time": "2022-08-14T08:13:44.376290",
     "status": "completed"
    },
    "tags": []
   },
   "outputs": [
    {
     "name": "stdout",
     "output_type": "stream",
     "text": [
      "Found 9414 images belonging to 200 classes.\n",
      "Found 2374 images belonging to 200 classes.\n"
     ]
    }
   ],
   "source": [
    "train_gen=ImageDataGenerator(rescale=1./255, rotation_range = 40,\n",
    "                                   width_shift_range = 0.2,\n",
    "                                   height_shift_range = 0.2,\n",
    "                                   shear_range = 0.2,\n",
    "                                   zoom_range = 0.2,\n",
    "                                   horizontal_flip = True)\n",
    "Data_train=train_gen.flow_from_directory(train_path,target_size=(224,224),class_mode='categorical',batch_size=bs)\n",
    "\n",
    "test_gen=ImageDataGenerator(rescale=1./255)\n",
    "Data_test=test_gen.flow_from_directory(test_path,target_size=(224,224),class_mode='categorical',batch_size=bs)"
   ]
  },
  {
   "cell_type": "code",
   "execution_count": 7,
   "id": "b56924d1",
   "metadata": {
    "execution": {
     "iopub.execute_input": "2022-08-14T08:13:45.872190Z",
     "iopub.status.busy": "2022-08-14T08:13:45.871317Z",
     "iopub.status.idle": "2022-08-14T08:13:52.481535Z",
     "shell.execute_reply": "2022-08-14T08:13:52.479067Z"
    },
    "papermill": {
     "duration": 6.617841,
     "end_time": "2022-08-14T08:13:52.483614",
     "exception": false,
     "start_time": "2022-08-14T08:13:45.865773",
     "status": "completed"
    },
    "tags": []
   },
   "outputs": [
    {
     "name": "stderr",
     "output_type": "stream",
     "text": [
      "2022-08-14 08:13:45.980453: I tensorflow/stream_executor/cuda/cuda_gpu_executor.cc:937] successful NUMA node read from SysFS had negative value (-1), but there must be at least one NUMA node, so returning NUMA node zero\n",
      "2022-08-14 08:13:46.119637: I tensorflow/stream_executor/cuda/cuda_gpu_executor.cc:937] successful NUMA node read from SysFS had negative value (-1), but there must be at least one NUMA node, so returning NUMA node zero\n",
      "2022-08-14 08:13:46.120542: I tensorflow/stream_executor/cuda/cuda_gpu_executor.cc:937] successful NUMA node read from SysFS had negative value (-1), but there must be at least one NUMA node, so returning NUMA node zero\n",
      "2022-08-14 08:13:46.122117: I tensorflow/core/platform/cpu_feature_guard.cc:142] This TensorFlow binary is optimized with oneAPI Deep Neural Network Library (oneDNN) to use the following CPU instructions in performance-critical operations:  AVX2 AVX512F FMA\n",
      "To enable them in other operations, rebuild TensorFlow with the appropriate compiler flags.\n",
      "2022-08-14 08:13:46.122439: I tensorflow/stream_executor/cuda/cuda_gpu_executor.cc:937] successful NUMA node read from SysFS had negative value (-1), but there must be at least one NUMA node, so returning NUMA node zero\n",
      "2022-08-14 08:13:46.123196: I tensorflow/stream_executor/cuda/cuda_gpu_executor.cc:937] successful NUMA node read from SysFS had negative value (-1), but there must be at least one NUMA node, so returning NUMA node zero\n",
      "2022-08-14 08:13:46.124008: I tensorflow/stream_executor/cuda/cuda_gpu_executor.cc:937] successful NUMA node read from SysFS had negative value (-1), but there must be at least one NUMA node, so returning NUMA node zero\n",
      "2022-08-14 08:13:48.595812: I tensorflow/stream_executor/cuda/cuda_gpu_executor.cc:937] successful NUMA node read from SysFS had negative value (-1), but there must be at least one NUMA node, so returning NUMA node zero\n",
      "2022-08-14 08:13:48.596854: I tensorflow/stream_executor/cuda/cuda_gpu_executor.cc:937] successful NUMA node read from SysFS had negative value (-1), but there must be at least one NUMA node, so returning NUMA node zero\n",
      "2022-08-14 08:13:48.597722: I tensorflow/stream_executor/cuda/cuda_gpu_executor.cc:937] successful NUMA node read from SysFS had negative value (-1), but there must be at least one NUMA node, so returning NUMA node zero\n",
      "2022-08-14 08:13:48.598385: I tensorflow/core/common_runtime/gpu/gpu_device.cc:1510] Created device /job:localhost/replica:0/task:0/device:GPU:0 with 15403 MB memory:  -> device: 0, name: Tesla P100-PCIE-16GB, pci bus id: 0000:00:04.0, compute capability: 6.0\n"
     ]
    },
    {
     "name": "stdout",
     "output_type": "stream",
     "text": [
      "Downloading data from https://github.com/Callidior/keras-applications/releases/download/efficientnet/efficientnet-b0_weights_tf_dim_ordering_tf_kernels_autoaugment_notop.h5\n",
      "16809984/16804768 [==============================] - 1s 0us/step\n",
      "16818176/16804768 [==============================] - 1s 0us/step\n",
      "Model: \"sequential\"\n",
      "_________________________________________________________________\n",
      "Layer (type)                 Output Shape              Param #   \n",
      "=================================================================\n",
      "efficientnet-b0 (Functional) (None, 7, 7, 1280)        4049564   \n",
      "_________________________________________________________________\n",
      "global_average_pooling2d (Gl (None, 1280)              0         \n",
      "_________________________________________________________________\n",
      "dropout (Dropout)            (None, 1280)              0         \n",
      "_________________________________________________________________\n",
      "dense (Dense)                (None, 200)               256200    \n",
      "=================================================================\n",
      "Total params: 4,305,764\n",
      "Trainable params: 4,263,748\n",
      "Non-trainable params: 42,016\n",
      "_________________________________________________________________\n"
     ]
    }
   ],
   "source": [
    "efnb0 = efn.EfficientNetB0(weights='imagenet', include_top=False, input_shape=(224,224,3), classes= 200)\n",
    "\n",
    "model = Sequential()\n",
    "model.add(efnb0)\n",
    "model.add(GlobalAveragePooling2D())\n",
    "model.add(Dropout(0.5))\n",
    "model.add(Dense(200, activation='softmax'))\n",
    "\n",
    "model.summary()"
   ]
  },
  {
   "cell_type": "code",
   "execution_count": 8,
   "id": "5629db79",
   "metadata": {
    "execution": {
     "iopub.execute_input": "2022-08-14T08:13:52.496905Z",
     "iopub.status.busy": "2022-08-14T08:13:52.496014Z",
     "iopub.status.idle": "2022-08-14T08:13:52.515611Z",
     "shell.execute_reply": "2022-08-14T08:13:52.513393Z"
    },
    "papermill": {
     "duration": 0.02916,
     "end_time": "2022-08-14T08:13:52.518589",
     "exception": false,
     "start_time": "2022-08-14T08:13:52.489429",
     "status": "completed"
    },
    "tags": []
   },
   "outputs": [
    {
     "name": "stderr",
     "output_type": "stream",
     "text": [
      "/opt/conda/lib/python3.7/site-packages/keras/optimizer_v2/optimizer_v2.py:356: UserWarning: The `lr` argument is deprecated, use `learning_rate` instead.\n",
      "  \"The `lr` argument is deprecated, use `learning_rate` instead.\")\n"
     ]
    }
   ],
   "source": [
    "optimizer = Adam(lr=0.0001)\n",
    "\n",
    "#early stopping to monitor the validation loss and avoid overfitting\n",
    "early_stop = EarlyStopping(monitor='val_loss', mode='min', verbose=1, patience=10, restore_best_weights=True)\n",
    "\n",
    "#reducing learning rate on plateau\n",
    "rlrop = ReduceLROnPlateau(monitor='val_loss', mode='min', patience= 5, factor= 0.5, min_lr= 1e-6, verbose=1)\n",
    "#model compiling\n",
    "model.compile(optimizer=optimizer, loss='categorical_crossentropy', metrics=['accuracy'])"
   ]
  },
  {
   "cell_type": "code",
   "execution_count": 9,
   "id": "5221b6a4",
   "metadata": {
    "execution": {
     "iopub.execute_input": "2022-08-14T08:13:52.530875Z",
     "iopub.status.busy": "2022-08-14T08:13:52.530595Z",
     "iopub.status.idle": "2022-08-14T09:41:41.392548Z",
     "shell.execute_reply": "2022-08-14T09:41:41.391377Z"
    },
    "papermill": {
     "duration": 5270.170941,
     "end_time": "2022-08-14T09:41:42.695080",
     "exception": false,
     "start_time": "2022-08-14T08:13:52.524139",
     "status": "completed"
    },
    "tags": []
   },
   "outputs": [
    {
     "name": "stderr",
     "output_type": "stream",
     "text": [
      "/opt/conda/lib/python3.7/site-packages/keras/engine/training.py:1972: UserWarning: `Model.fit_generator` is deprecated and will be removed in a future version. Please use `Model.fit`, which supports generators.\n",
      "  warnings.warn('`Model.fit_generator` is deprecated and '\n",
      "2022-08-14 08:13:52.770106: I tensorflow/compiler/mlir/mlir_graph_optimization_pass.cc:185] None of the MLIR Optimization Passes are enabled (registered 2)\n"
     ]
    },
    {
     "name": "stdout",
     "output_type": "stream",
     "text": [
      "Epoch 1/25\n"
     ]
    },
    {
     "name": "stderr",
     "output_type": "stream",
     "text": [
      "2022-08-14 08:14:01.750462: I tensorflow/stream_executor/cuda/cuda_dnn.cc:369] Loaded cuDNN version 8005\n"
     ]
    },
    {
     "name": "stdout",
     "output_type": "stream",
     "text": [
      "1177/1177 [==============================] - 248s 198ms/step - loss: 4.8253 - accuracy: 0.0553 - val_loss: 3.3440 - val_accuracy: 0.2633\n",
      "Epoch 2/25\n",
      "1177/1177 [==============================] - 203s 172ms/step - loss: 3.2000 - accuracy: 0.2604 - val_loss: 1.9162 - val_accuracy: 0.5383\n",
      "Epoch 3/25\n",
      "1177/1177 [==============================] - 203s 173ms/step - loss: 2.3034 - accuracy: 0.4320 - val_loss: 1.3739 - val_accuracy: 0.6504\n",
      "Epoch 4/25\n",
      "1177/1177 [==============================] - 201s 171ms/step - loss: 1.8065 - accuracy: 0.5431 - val_loss: 1.1318 - val_accuracy: 0.6980\n",
      "Epoch 5/25\n",
      "1177/1177 [==============================] - 206s 175ms/step - loss: 1.4726 - accuracy: 0.6177 - val_loss: 0.9417 - val_accuracy: 0.7409\n",
      "Epoch 6/25\n",
      "1177/1177 [==============================] - 204s 174ms/step - loss: 1.2633 - accuracy: 0.6668 - val_loss: 0.9277 - val_accuracy: 0.7372\n",
      "Epoch 7/25\n",
      "1177/1177 [==============================] - 202s 172ms/step - loss: 1.1151 - accuracy: 0.7025 - val_loss: 0.8353 - val_accuracy: 0.7565\n",
      "Epoch 8/25\n",
      "1177/1177 [==============================] - 204s 173ms/step - loss: 0.9869 - accuracy: 0.7330 - val_loss: 0.8294 - val_accuracy: 0.7650\n",
      "Epoch 9/25\n",
      "1177/1177 [==============================] - 203s 173ms/step - loss: 0.9019 - accuracy: 0.7538 - val_loss: 0.8196 - val_accuracy: 0.7725\n",
      "Epoch 10/25\n",
      "1177/1177 [==============================] - 204s 173ms/step - loss: 0.7974 - accuracy: 0.7819 - val_loss: 0.8043 - val_accuracy: 0.7641\n",
      "Epoch 11/25\n",
      "1177/1177 [==============================] - 205s 174ms/step - loss: 0.7301 - accuracy: 0.7915 - val_loss: 0.8107 - val_accuracy: 0.7645\n",
      "Epoch 12/25\n",
      "1177/1177 [==============================] - 204s 174ms/step - loss: 0.6707 - accuracy: 0.8079 - val_loss: 0.8224 - val_accuracy: 0.7801\n",
      "Epoch 13/25\n",
      "1177/1177 [==============================] - 205s 174ms/step - loss: 0.6391 - accuracy: 0.8208 - val_loss: 0.7925 - val_accuracy: 0.7873\n",
      "Epoch 14/25\n",
      "1177/1177 [==============================] - 206s 175ms/step - loss: 0.5737 - accuracy: 0.8367 - val_loss: 0.8085 - val_accuracy: 0.7835\n",
      "Epoch 15/25\n",
      "1177/1177 [==============================] - 206s 175ms/step - loss: 0.5281 - accuracy: 0.8470 - val_loss: 0.8298 - val_accuracy: 0.7890\n",
      "Epoch 16/25\n",
      "1177/1177 [==============================] - 207s 176ms/step - loss: 0.4803 - accuracy: 0.8629 - val_loss: 0.8523 - val_accuracy: 0.7814\n",
      "Epoch 17/25\n",
      "1177/1177 [==============================] - 204s 174ms/step - loss: 0.4337 - accuracy: 0.8735 - val_loss: 0.8308 - val_accuracy: 0.7961\n",
      "Epoch 18/25\n",
      "1177/1177 [==============================] - 206s 175ms/step - loss: 0.4088 - accuracy: 0.8822 - val_loss: 0.8945 - val_accuracy: 0.7805\n",
      "\n",
      "Epoch 00018: ReduceLROnPlateau reducing learning rate to 4.999999873689376e-05.\n",
      "Epoch 19/25\n",
      "1177/1177 [==============================] - 205s 174ms/step - loss: 0.3513 - accuracy: 0.9010 - val_loss: 0.8161 - val_accuracy: 0.7957\n",
      "Epoch 20/25\n",
      "1177/1177 [==============================] - 206s 175ms/step - loss: 0.3419 - accuracy: 0.9033 - val_loss: 0.8073 - val_accuracy: 0.7961\n",
      "Epoch 21/25\n",
      "1177/1177 [==============================] - 207s 175ms/step - loss: 0.2959 - accuracy: 0.9167 - val_loss: 0.8326 - val_accuracy: 0.8024\n",
      "Epoch 22/25\n",
      "1177/1177 [==============================] - 206s 175ms/step - loss: 0.2778 - accuracy: 0.9221 - val_loss: 0.8363 - val_accuracy: 0.8008\n",
      "Epoch 23/25\n",
      "1177/1177 [==============================] - 207s 176ms/step - loss: 0.2715 - accuracy: 0.9222 - val_loss: 0.8398 - val_accuracy: 0.8033\n",
      "Restoring model weights from the end of the best epoch.\n",
      "\n",
      "Epoch 00023: ReduceLROnPlateau reducing learning rate to 2.499999936844688e-05.\n",
      "Epoch 00023: early stopping\n"
     ]
    }
   ],
   "source": [
    "model_history = model.fit_generator(Data_train, validation_data = Data_test, callbacks = [early_stop, rlrop],verbose = 1, epochs = 25)\n",
    "\n",
    "#saving the trained model weights as data file in .h5 format\n",
    "model.save_weights(\"birds_efficientnetb0_weights.h5\")"
   ]
  },
  {
   "cell_type": "code",
   "execution_count": 10,
   "id": "c91c4f1b",
   "metadata": {
    "execution": {
     "iopub.execute_input": "2022-08-14T09:41:46.539967Z",
     "iopub.status.busy": "2022-08-14T09:41:46.539597Z",
     "iopub.status.idle": "2022-08-14T09:42:36.383485Z",
     "shell.execute_reply": "2022-08-14T09:42:36.382541Z"
    },
    "papermill": {
     "duration": 53.456694,
     "end_time": "2022-08-14T09:42:37.932996",
     "exception": false,
     "start_time": "2022-08-14T09:41:44.476302",
     "status": "completed"
    },
    "tags": []
   },
   "outputs": [
    {
     "data": {
      "image/png": "[encoded data removed]",
      "text/plain": [
       "<Figure size 1296x576 with 2 Axes>"
      ]
     },
     "metadata": {
      "needs_background": "light"
     },
     "output_type": "display_data"
    }
   ],
   "source": [
    "#plot to visualize the loss and accuracy against number of epochs\n",
    "plt.figure(figsize=(18,8))\n",
    "\n",
    "plt.suptitle('Loss and Accuracy Plots', fontsize=18)\n",
    "\n",
    "plt.subplot(1,2,1)\n",
    "plt.plot(model_history.history['loss'], label='Training Loss')\n",
    "plt.plot(model_history.history['val_loss'], label='Validation Loss')\n",
    "plt.legend()\n",
    "plt.xlabel('Number of epochs', fontsize=15)\n",
    "plt.ylabel('Loss', fontsize=15)\n",
    "\n",
    "plt.subplot(1,2,2)\n",
    "plt.plot(model_history.history['accuracy'], label='Train Accuracy')\n",
    "plt.plot(model_history.history['val_accuracy'], label='Validation Accuracy')\n",
    "plt.legend()\n",
    "plt.xlabel('Number of epochs', fontsize=14)\n",
    "plt.ylabel('Accuracy', fontsize=14)\n",
    "plt.show()"
   ]
  },
  {
   "cell_type": "code",
   "execution_count": null,
   "id": "a4027594",
   "metadata": {
    "papermill": {
     "duration": 1.774685,
     "end_time": "2022-08-14T09:42:41.221966",
     "exception": false,
     "start_time": "2022-08-14T09:42:39.447281",
     "status": "completed"
    },
    "tags": []
   },
   "outputs": [],
   "source": []
  }
 ],
 "metadata": {
  "kernelspec": {
   "display_name": "Python 3",
   "language": "python",
   "name": "python3"
  },
  "language_info": {
   "codemirror_mode": {
    "name": "ipython",
    "version": 3
   },
   "file_extension": ".py",
   "mimetype": "text/x-python",
   "name": "python",
   "nbconvert_exporter": "python",
   "pygments_lexer": "ipython3",
   "version": "3.7.12"
  },
  "papermill": {
   "default_parameters": {},
   "duration": 5372.860613,
   "end_time": "2022-08-14T09:42:46.121947",
   "environment_variables": {},
   "exception": null,
   "input_path": "__notebook__.ipynb",
   "output_path": "__notebook__.ipynb",
   "parameters": {},
   "start_time": "2022-08-14T08:13:13.261334",
   "version": "2.3.4"
  }
 },
 "nbformat": 4,
 "nbformat_minor": 5
}
