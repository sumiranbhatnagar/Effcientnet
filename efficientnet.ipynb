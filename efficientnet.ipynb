{
 "cells": [
  {
   "cell_type": "code",
   "execution_count": 1,
   "id": "2ab94b09",
   "metadata": {
    "_cell_guid": "b1076dfc-b9ad-4769-8c92-a6c4dae69d19",
    "_uuid": "8f2839f25d086af736a60e9eeb907d3b93b6e0e5",
    "execution": {
     "iopub.execute_input": "2022-07-19T21:50:09.706385Z",
     "iopub.status.busy": "2022-07-19T21:50:09.705855Z",
     "iopub.status.idle": "2022-07-19T21:50:09.717167Z",
     "shell.execute_reply": "2022-07-19T21:50:09.716360Z"
    },
    "papermill": {
     "duration": 0.019236,
     "end_time": "2022-07-19T21:50:09.719187",
     "exception": false,
     "start_time": "2022-07-19T21:50:09.699951",
     "status": "completed"
    },
    "tags": []
   },
   "outputs": [],
   "source": [
    "# This Python 3 environment comes with many helpful analytics libraries installed\n",
    "# It is defined by the kaggle/python Docker image: https://github.com/kaggle/docker-python\n",
    "# For example, here's several helpful packages to load\n",
    "\n",
    "import numpy as np # linear algebra\n",
    "import pandas as pd # data processing, CSV file I/O (e.g. pd.read_csv)\n",
    "\n",
    "# Input data files are available in the read-only \"../input/\" directory\n",
    "# For example, running this (by clicking run or pressing Shift+Enter) will list all files under the input directory\n",
    "\n",
    "import os\n",
    "#for dirname, _, filenames in os.walk('/kaggle/input'):\n",
    "  #  for filename in filenames:\n",
    "   #     print(os.path.join(dirname, filename))\n",
    "\n",
    "# You can write up to 20GB to the current directory (/kaggle/working/) that gets preserved as output when you create a version using \"Save & Run All\" \n",
    "# You can also write temporary files to /kaggle/temp/, but they won't be saved outside of the current session"
   ]
  },
  {
   "cell_type": "code",
   "execution_count": 2,
   "id": "85047c26",
   "metadata": {
    "execution": {
     "iopub.execute_input": "2022-07-19T21:50:09.726502Z",
     "iopub.status.busy": "2022-07-19T21:50:09.726222Z",
     "iopub.status.idle": "2022-07-19T21:50:25.843559Z",
     "shell.execute_reply": "2022-07-19T21:50:25.842399Z"
    },
    "papermill": {
     "duration": 16.12382,
     "end_time": "2022-07-19T21:50:25.846218",
     "exception": false,
     "start_time": "2022-07-19T21:50:09.722398",
     "status": "completed"
    },
    "tags": []
   },
   "outputs": [
    {
     "name": "stdout",
     "output_type": "stream",
     "text": [
      "Collecting git+https://github.com/qubvel/segmentation_models\r\n",
      "  Cloning https://github.com/qubvel/segmentation_models to /tmp/pip-req-build-bqgod2ze\r\n",
      "  Running command git clone --filter=blob:none --quiet https://github.com/qubvel/segmentation_models /tmp/pip-req-build-bqgod2ze\r\n",
      "  Resolved https://github.com/qubvel/segmentation_models to commit 94f624b7029deb463c859efbd92fa26f512b52b8\r\n",
      "  Running command git submodule update --init --recursive -q\r\n",
      "  Preparing metadata (setup.py) ... \u001b[?25l-\b \bdone\r\n",
      "\u001b[?25hCollecting keras_applications<=1.0.8,>=1.0.7\r\n",
      "  Downloading Keras_Applications-1.0.8-py3-none-any.whl (50 kB)\r\n",
      "\u001b[2K     \u001b[90m━━━━━━━━━━━━━━━━━━━━━━━━━━━━━━━━━━━━━━━\u001b[0m \u001b[32m50.7/50.7 kB\u001b[0m \u001b[31m415.3 kB/s\u001b[0m eta \u001b[36m0:00:00\u001b[0m\r\n",
      "\u001b[?25hCollecting image-classifiers==1.0.0\r\n",
      "  Downloading image_classifiers-1.0.0-py3-none-any.whl (19 kB)\r\n",
      "Collecting efficientnet==1.0.0\r\n",
      "  Downloading efficientnet-1.0.0-py3-none-any.whl (17 kB)\r\n",
      "Requirement already satisfied: scikit-image in /opt/conda/lib/python3.7/site-packages (from efficientnet==1.0.0->segmentation-models==1.0.1) (0.18.3)\r\n",
      "Requirement already satisfied: h5py in /opt/conda/lib/python3.7/site-packages (from keras_applications<=1.0.8,>=1.0.7->segmentation-models==1.0.1) (3.1.0)\r\n",
      "Requirement already satisfied: numpy>=1.9.1 in /opt/conda/lib/python3.7/site-packages (from keras_applications<=1.0.8,>=1.0.7->segmentation-models==1.0.1) (1.21.6)\r\n",
      "Requirement already satisfied: cached-property in /opt/conda/lib/python3.7/site-packages (from h5py->keras_applications<=1.0.8,>=1.0.7->segmentation-models==1.0.1) (1.5.2)\r\n",
      "Requirement already satisfied: tifffile>=2019.7.26 in /opt/conda/lib/python3.7/site-packages (from scikit-image->efficientnet==1.0.0->segmentation-models==1.0.1) (2021.11.2)\r\n",
      "Requirement already satisfied: scipy>=1.0.1 in /opt/conda/lib/python3.7/site-packages (from scikit-image->efficientnet==1.0.0->segmentation-models==1.0.1) (1.7.3)\r\n",
      "Requirement already satisfied: matplotlib!=3.0.0,>=2.0.0 in /opt/conda/lib/python3.7/site-packages (from scikit-image->efficientnet==1.0.0->segmentation-models==1.0.1) (3.5.2)\r\n",
      "Requirement already satisfied: imageio>=2.3.0 in /opt/conda/lib/python3.7/site-packages (from scikit-image->efficientnet==1.0.0->segmentation-models==1.0.1) (2.19.2)\r\n",
      "Requirement already satisfied: pillow!=7.1.0,!=7.1.1,>=4.3.0 in /opt/conda/lib/python3.7/site-packages (from scikit-image->efficientnet==1.0.0->segmentation-models==1.0.1) (9.1.1)\r\n",
      "Requirement already satisfied: networkx>=2.0 in /opt/conda/lib/python3.7/site-packages (from scikit-image->efficientnet==1.0.0->segmentation-models==1.0.1) (2.5)\r\n",
      "Requirement already satisfied: PyWavelets>=1.1.1 in /opt/conda/lib/python3.7/site-packages (from scikit-image->efficientnet==1.0.0->segmentation-models==1.0.1) (1.3.0)\r\n",
      "Requirement already satisfied: cycler>=0.10 in /opt/conda/lib/python3.7/site-packages (from matplotlib!=3.0.0,>=2.0.0->scikit-image->efficientnet==1.0.0->segmentation-models==1.0.1) (0.11.0)\r\n",
      "Requirement already satisfied: kiwisolver>=1.0.1 in /opt/conda/lib/python3.7/site-packages (from matplotlib!=3.0.0,>=2.0.0->scikit-image->efficientnet==1.0.0->segmentation-models==1.0.1) (1.4.2)\r\n",
      "Requirement already satisfied: fonttools>=4.22.0 in /opt/conda/lib/python3.7/site-packages (from matplotlib!=3.0.0,>=2.0.0->scikit-image->efficientnet==1.0.0->segmentation-models==1.0.1) (4.33.3)\r\n",
      "Requirement already satisfied: python-dateutil>=2.7 in /opt/conda/lib/python3.7/site-packages (from matplotlib!=3.0.0,>=2.0.0->scikit-image->efficientnet==1.0.0->segmentation-models==1.0.1) (2.8.2)\r\n",
      "Requirement already satisfied: pyparsing>=2.2.1 in /opt/conda/lib/python3.7/site-packages (from matplotlib!=3.0.0,>=2.0.0->scikit-image->efficientnet==1.0.0->segmentation-models==1.0.1) (3.0.9)\r\n",
      "Requirement already satisfied: packaging>=20.0 in /opt/conda/lib/python3.7/site-packages (from matplotlib!=3.0.0,>=2.0.0->scikit-image->efficientnet==1.0.0->segmentation-models==1.0.1) (21.3)\r\n",
      "Requirement already satisfied: decorator>=4.3.0 in /opt/conda/lib/python3.7/site-packages (from networkx>=2.0->scikit-image->efficientnet==1.0.0->segmentation-models==1.0.1) (5.1.1)\r\n",
      "Requirement already satisfied: typing-extensions in /opt/conda/lib/python3.7/site-packages (from kiwisolver>=1.0.1->matplotlib!=3.0.0,>=2.0.0->scikit-image->efficientnet==1.0.0->segmentation-models==1.0.1) (4.1.1)\r\n",
      "Requirement already satisfied: six>=1.5 in /opt/conda/lib/python3.7/site-packages (from python-dateutil>=2.7->matplotlib!=3.0.0,>=2.0.0->scikit-image->efficientnet==1.0.0->segmentation-models==1.0.1) (1.16.0)\r\n",
      "Building wheels for collected packages: segmentation-models\r\n",
      "  Building wheel for segmentation-models (setup.py) ... \u001b[?25l-\b \b\\\b \bdone\r\n",
      "\u001b[?25h  Created wheel for segmentation-models: filename=segmentation_models-1.0.1-py3-none-any.whl size=33810 sha256=545e0c3e47d5cf13386914040782b8918bb7b88dd097cbc62bf97fbe420fe254\r\n",
      "  Stored in directory: /tmp/pip-ephem-wheel-cache-gsxifv7n/wheels/02/cd/18/61c0bbb8766acfec68f9d20618886b7b38dfeeb95865b6ba00\r\n",
      "Successfully built segmentation-models\r\n",
      "Installing collected packages: keras_applications, image-classifiers, efficientnet, segmentation-models\r\n",
      "Successfully installed efficientnet-1.0.0 image-classifiers-1.0.0 keras_applications-1.0.8 segmentation-models-1.0.1\r\n",
      "\u001b[33mWARNING: Running pip as the 'root' user can result in broken permissions and conflicting behaviour with the system package manager. It is recommended to use a virtual environment instead: https://pip.pypa.io/warnings/venv\u001b[0m\u001b[33m\r\n",
      "\u001b[0m"
     ]
    }
   ],
   "source": [
    "!pip install git+https://github.com/qubvel/segmentation_models"
   ]
  },
  {
   "cell_type": "code",
   "execution_count": 3,
   "id": "7ba79102",
   "metadata": {
    "execution": {
     "iopub.execute_input": "2022-07-19T21:50:25.857127Z",
     "iopub.status.busy": "2022-07-19T21:50:25.856809Z",
     "iopub.status.idle": "2022-07-19T21:50:31.989608Z",
     "shell.execute_reply": "2022-07-19T21:50:31.988683Z"
    },
    "papermill": {
     "duration": 6.140612,
     "end_time": "2022-07-19T21:50:31.991696",
     "exception": false,
     "start_time": "2022-07-19T21:50:25.851084",
     "status": "completed"
    },
    "tags": []
   },
   "outputs": [
    {
     "name": "stdout",
     "output_type": "stream",
     "text": [
      "Segmentation Models: using `keras` framework.\n"
     ]
    },
    {
     "data": {
      "text/plain": [
       "'tf.keras'"
      ]
     },
     "execution_count": 3,
     "metadata": {},
     "output_type": "execute_result"
    }
   ],
   "source": [
    "import segmentation_models as sm\n",
    "\n",
    "sm.set_framework('tf.keras')\n",
    "\n",
    "sm.framework()"
   ]
  },
  {
   "cell_type": "code",
   "execution_count": 4,
   "id": "c59e8c78",
   "metadata": {
    "execution": {
     "iopub.execute_input": "2022-07-19T21:50:32.002392Z",
     "iopub.status.busy": "2022-07-19T21:50:32.001885Z",
     "iopub.status.idle": "2022-07-19T21:50:33.082568Z",
     "shell.execute_reply": "2022-07-19T21:50:33.081589Z"
    },
    "papermill": {
     "duration": 1.088608,
     "end_time": "2022-07-19T21:50:33.084930",
     "exception": false,
     "start_time": "2022-07-19T21:50:31.996322",
     "status": "completed"
    },
    "tags": []
   },
   "outputs": [],
   "source": [
    "\n",
    "from sklearn.model_selection import StratifiedShuffleSplit\n",
    "import cv2\n",
    "import albumentations as albu\n",
    "from skimage.transform import resize\n",
    "import numpy as np\n",
    "import pandas as pd\n",
    "import matplotlib.pyplot as plt\n",
    "%matplotlib inline\n",
    "from pylab import rcParams\n",
    "from sklearn.metrics import accuracy_score, confusion_matrix, classification_report\n",
    "from keras.callbacks import Callback, EarlyStopping, ReduceLROnPlateau\n",
    "import tensorflow as tf\n",
    "import keras\n",
    "from keras.models import Sequential, load_model\n",
    "from keras.layers import Dropout, Dense, GlobalAveragePooling2D\n",
    "#from keras.optimizers import Adam\n",
    "import efficientnet.tfkeras as efn\n",
    "#import efficientnet.keras as efn\n",
    "from tensorflow.keras.optimizers import Adam \n",
    "from tensorflow.keras.preprocessing.image import ImageDataGenerator\n",
    "from tensorflow.keras.preprocessing.image import img_to_array, load_img"
   ]
  },
  {
   "cell_type": "code",
   "execution_count": 5,
   "id": "b8d1fe22",
   "metadata": {
    "execution": {
     "iopub.execute_input": "2022-07-19T21:50:33.097822Z",
     "iopub.status.busy": "2022-07-19T21:50:33.096144Z",
     "iopub.status.idle": "2022-07-19T21:50:33.101463Z",
     "shell.execute_reply": "2022-07-19T21:50:33.100526Z"
    },
    "papermill": {
     "duration": 0.013481,
     "end_time": "2022-07-19T21:50:33.103398",
     "exception": false,
     "start_time": "2022-07-19T21:50:33.089917",
     "status": "completed"
    },
    "tags": []
   },
   "outputs": [],
   "source": [
    "bs= 16 # Increase Batch size based on your hardware capacity, if you have powerful GPU try BS=128,256...\n",
    "train_path=r'../input/bird-species-classification-220-categories/Train'\n",
    "test_path=r'../input/bird-species-classification-220-categories/Test'"
   ]
  },
  {
   "cell_type": "code",
   "execution_count": 6,
   "id": "5e832b68",
   "metadata": {
    "execution": {
     "iopub.execute_input": "2022-07-19T21:50:33.113613Z",
     "iopub.status.busy": "2022-07-19T21:50:33.113314Z",
     "iopub.status.idle": "2022-07-19T21:50:34.636694Z",
     "shell.execute_reply": "2022-07-19T21:50:34.634111Z"
    },
    "papermill": {
     "duration": 1.531885,
     "end_time": "2022-07-19T21:50:34.639828",
     "exception": false,
     "start_time": "2022-07-19T21:50:33.107943",
     "status": "completed"
    },
    "tags": []
   },
   "outputs": [
    {
     "name": "stdout",
     "output_type": "stream",
     "text": [
      "Found 9414 images belonging to 200 classes.\n",
      "Found 2374 images belonging to 200 classes.\n"
     ]
    }
   ],
   "source": [
    "train_gen=ImageDataGenerator(rescale=1./255, rotation_range = 40,\n",
    "                                   width_shift_range = 0.2,\n",
    "                                   height_shift_range = 0.2,\n",
    "                                   shear_range = 0.2,\n",
    "                                   zoom_range = 0.2,\n",
    "                                   horizontal_flip = True)\n",
    "Data_train=train_gen.flow_from_directory(train_path,target_size=(224,224),class_mode='categorical',batch_size=bs)\n",
    "\n",
    "test_gen=ImageDataGenerator(rescale=1./255)\n",
    "Data_test=test_gen.flow_from_directory(test_path,target_size=(224,224),class_mode='categorical',batch_size=bs)"
   ]
  },
  {
   "cell_type": "code",
   "execution_count": 7,
   "id": "4eb820ef",
   "metadata": {
    "execution": {
     "iopub.execute_input": "2022-07-19T21:50:34.658488Z",
     "iopub.status.busy": "2022-07-19T21:50:34.657891Z",
     "iopub.status.idle": "2022-07-19T21:50:52.711731Z",
     "shell.execute_reply": "2022-07-19T21:50:52.709138Z"
    },
    "papermill": {
     "duration": 18.065211,
     "end_time": "2022-07-19T21:50:52.715155",
     "exception": false,
     "start_time": "2022-07-19T21:50:34.649944",
     "status": "completed"
    },
    "tags": []
   },
   "outputs": [
    {
     "name": "stderr",
     "output_type": "stream",
     "text": [
      "2022-07-19 21:50:34.777720: I tensorflow/stream_executor/cuda/cuda_gpu_executor.cc:937] successful NUMA node read from SysFS had negative value (-1), but there must be at least one NUMA node, so returning NUMA node zero\n",
      "2022-07-19 21:50:34.904287: I tensorflow/stream_executor/cuda/cuda_gpu_executor.cc:937] successful NUMA node read from SysFS had negative value (-1), but there must be at least one NUMA node, so returning NUMA node zero\n",
      "2022-07-19 21:50:34.905155: I tensorflow/stream_executor/cuda/cuda_gpu_executor.cc:937] successful NUMA node read from SysFS had negative value (-1), but there must be at least one NUMA node, so returning NUMA node zero\n",
      "2022-07-19 21:50:34.906591: I tensorflow/core/platform/cpu_feature_guard.cc:142] This TensorFlow binary is optimized with oneAPI Deep Neural Network Library (oneDNN) to use the following CPU instructions in performance-critical operations:  AVX2 AVX512F FMA\n",
      "To enable them in other operations, rebuild TensorFlow with the appropriate compiler flags.\n",
      "2022-07-19 21:50:34.906876: I tensorflow/stream_executor/cuda/cuda_gpu_executor.cc:937] successful NUMA node read from SysFS had negative value (-1), but there must be at least one NUMA node, so returning NUMA node zero\n",
      "2022-07-19 21:50:34.907571: I tensorflow/stream_executor/cuda/cuda_gpu_executor.cc:937] successful NUMA node read from SysFS had negative value (-1), but there must be at least one NUMA node, so returning NUMA node zero\n",
      "2022-07-19 21:50:34.908234: I tensorflow/stream_executor/cuda/cuda_gpu_executor.cc:937] successful NUMA node read from SysFS had negative value (-1), but there must be at least one NUMA node, so returning NUMA node zero\n",
      "2022-07-19 21:50:37.072653: I tensorflow/stream_executor/cuda/cuda_gpu_executor.cc:937] successful NUMA node read from SysFS had negative value (-1), but there must be at least one NUMA node, so returning NUMA node zero\n",
      "2022-07-19 21:50:37.073669: I tensorflow/stream_executor/cuda/cuda_gpu_executor.cc:937] successful NUMA node read from SysFS had negative value (-1), but there must be at least one NUMA node, so returning NUMA node zero\n",
      "2022-07-19 21:50:37.074473: I tensorflow/stream_executor/cuda/cuda_gpu_executor.cc:937] successful NUMA node read from SysFS had negative value (-1), but there must be at least one NUMA node, so returning NUMA node zero\n",
      "2022-07-19 21:50:37.075165: I tensorflow/core/common_runtime/gpu/gpu_device.cc:1510] Created device /job:localhost/replica:0/task:0/device:GPU:0 with 15403 MB memory:  -> device: 0, name: Tesla P100-PCIE-16GB, pci bus id: 0000:00:04.0, compute capability: 6.0\n"
     ]
    },
    {
     "name": "stdout",
     "output_type": "stream",
     "text": [
      "Downloading data from https://github.com/Callidior/keras-applications/releases/download/efficientnet/efficientnet-b7_weights_tf_dim_ordering_tf_kernels_autoaugment_notop.h5\n",
      "258441216/258434480 [==============================] - 8s 0us/step\n",
      "258449408/258434480 [==============================] - 8s 0us/step\n",
      "Model: \"sequential\"\n",
      "_________________________________________________________________\n",
      "Layer (type)                 Output Shape              Param #   \n",
      "=================================================================\n",
      "efficientnet-b7 (Functional) (None, 7, 7, 2560)        64097680  \n",
      "_________________________________________________________________\n",
      "global_average_pooling2d (Gl (None, 2560)              0         \n",
      "_________________________________________________________________\n",
      "dropout (Dropout)            (None, 2560)              0         \n",
      "_________________________________________________________________\n",
      "dense (Dense)                (None, 200)               512200    \n",
      "=================================================================\n",
      "Total params: 64,609,880\n",
      "Trainable params: 64,299,160\n",
      "Non-trainable params: 310,720\n",
      "_________________________________________________________________\n"
     ]
    }
   ],
   "source": [
    "efnb0 = efn.EfficientNetB7(weights='imagenet', include_top=False, input_shape=(224,224,3), classes= 200)\n",
    "\n",
    "model = Sequential()\n",
    "model.add(efnb0)\n",
    "model.add(GlobalAveragePooling2D())\n",
    "model.add(Dropout(0.5))\n",
    "model.add(Dense(200, activation='softmax'))\n",
    "\n",
    "model.summary()"
   ]
  },
  {
   "cell_type": "code",
   "execution_count": 8,
   "id": "c65f614c",
   "metadata": {
    "execution": {
     "iopub.execute_input": "2022-07-19T21:50:52.740133Z",
     "iopub.status.busy": "2022-07-19T21:50:52.739813Z",
     "iopub.status.idle": "2022-07-19T21:50:52.771096Z",
     "shell.execute_reply": "2022-07-19T21:50:52.769542Z"
    },
    "papermill": {
     "duration": 0.046246,
     "end_time": "2022-07-19T21:50:52.773489",
     "exception": false,
     "start_time": "2022-07-19T21:50:52.727243",
     "status": "completed"
    },
    "tags": []
   },
   "outputs": [
    {
     "name": "stderr",
     "output_type": "stream",
     "text": [
      "/opt/conda/lib/python3.7/site-packages/keras/optimizer_v2/optimizer_v2.py:356: UserWarning: The `lr` argument is deprecated, use `learning_rate` instead.\n",
      "  \"The `lr` argument is deprecated, use `learning_rate` instead.\")\n"
     ]
    }
   ],
   "source": [
    "optimizer = Adam(lr=0.0001)\n",
    "\n",
    "#early stopping to monitor the validation loss and avoid overfitting\n",
    "early_stop = EarlyStopping(monitor='val_loss', mode='min', verbose=1, patience=10, restore_best_weights=True)\n",
    "\n",
    "#reducing learning rate on plateau\n",
    "rlrop = ReduceLROnPlateau(monitor='val_loss', mode='min', patience= 5, factor= 0.5, min_lr= 1e-6, verbose=1)\n",
    "#model compiling\n",
    "model.compile(optimizer=optimizer, loss='categorical_crossentropy', metrics=['accuracy'])"
   ]
  },
  {
   "cell_type": "code",
   "execution_count": 9,
   "id": "abd595a6",
   "metadata": {
    "execution": {
     "iopub.execute_input": "2022-07-19T21:50:52.798300Z",
     "iopub.status.busy": "2022-07-19T21:50:52.797768Z",
     "iopub.status.idle": "2022-07-19T23:31:29.567795Z",
     "shell.execute_reply": "2022-07-19T23:31:29.566818Z"
    },
    "papermill": {
     "duration": 6036.785202,
     "end_time": "2022-07-19T23:31:29.570379",
     "exception": false,
     "start_time": "2022-07-19T21:50:52.785177",
     "status": "completed"
    },
    "tags": []
   },
   "outputs": [
    {
     "name": "stderr",
     "output_type": "stream",
     "text": [
      "/opt/conda/lib/python3.7/site-packages/keras/engine/training.py:1972: UserWarning: `Model.fit_generator` is deprecated and will be removed in a future version. Please use `Model.fit`, which supports generators.\n",
      "  warnings.warn('`Model.fit_generator` is deprecated and '\n",
      "2022-07-19 21:50:53.201573: I tensorflow/compiler/mlir/mlir_graph_optimization_pass.cc:185] None of the MLIR Optimization Passes are enabled (registered 2)\n"
     ]
    },
    {
     "name": "stdout",
     "output_type": "stream",
     "text": [
      "Epoch 1/15\n"
     ]
    },
    {
     "name": "stderr",
     "output_type": "stream",
     "text": [
      "2022-07-19 21:51:23.686232: I tensorflow/stream_executor/cuda/cuda_dnn.cc:369] Loaded cuDNN version 8005\n"
     ]
    },
    {
     "name": "stdout",
     "output_type": "stream",
     "text": [
      "589/589 [==============================] - 430s 667ms/step - loss: 4.8505 - accuracy: 0.0632 - val_loss: 3.3982 - val_accuracy: 0.2944\n",
      "Epoch 2/15\n",
      "589/589 [==============================] - 383s 650ms/step - loss: 2.9462 - accuracy: 0.3214 - val_loss: 1.6664 - val_accuracy: 0.6133\n",
      "Epoch 3/15\n",
      "589/589 [==============================] - 382s 649ms/step - loss: 1.8503 - accuracy: 0.5441 - val_loss: 1.0908 - val_accuracy: 0.7216\n",
      "Epoch 4/15\n",
      "589/589 [==============================] - 383s 651ms/step - loss: 1.3636 - accuracy: 0.6490 - val_loss: 0.8662 - val_accuracy: 0.7523\n",
      "Epoch 5/15\n",
      "589/589 [==============================] - 383s 650ms/step - loss: 1.0724 - accuracy: 0.7211 - val_loss: 0.7394 - val_accuracy: 0.7877\n",
      "Epoch 6/15\n",
      "589/589 [==============================] - 381s 647ms/step - loss: 0.8828 - accuracy: 0.7625 - val_loss: 0.7067 - val_accuracy: 0.8024\n",
      "Epoch 7/15\n",
      "589/589 [==============================] - 383s 650ms/step - loss: 0.7198 - accuracy: 0.8054 - val_loss: 0.6985 - val_accuracy: 0.8012\n",
      "Epoch 8/15\n",
      "589/589 [==============================] - 382s 648ms/step - loss: 0.6181 - accuracy: 0.8294 - val_loss: 0.6513 - val_accuracy: 0.8210\n",
      "Epoch 9/15\n",
      "589/589 [==============================] - 383s 649ms/step - loss: 0.5416 - accuracy: 0.8477 - val_loss: 0.6733 - val_accuracy: 0.8189\n",
      "Epoch 10/15\n",
      "589/589 [==============================] - 384s 651ms/step - loss: 0.4656 - accuracy: 0.8715 - val_loss: 0.6659 - val_accuracy: 0.8159\n",
      "Epoch 11/15\n",
      "589/589 [==============================] - 385s 653ms/step - loss: 0.4004 - accuracy: 0.8852 - val_loss: 0.6595 - val_accuracy: 0.8286\n",
      "Epoch 12/15\n",
      "589/589 [==============================] - 384s 652ms/step - loss: 0.3517 - accuracy: 0.9016 - val_loss: 0.7047 - val_accuracy: 0.8172\n",
      "Epoch 13/15\n",
      "589/589 [==============================] - 384s 652ms/step - loss: 0.3025 - accuracy: 0.9151 - val_loss: 0.6918 - val_accuracy: 0.8193\n",
      "\n",
      "Epoch 00013: ReduceLROnPlateau reducing learning rate to 4.999999873689376e-05.\n",
      "Epoch 14/15\n",
      "589/589 [==============================] - 384s 652ms/step - loss: 0.2393 - accuracy: 0.9364 - val_loss: 0.6473 - val_accuracy: 0.8277\n",
      "Epoch 15/15\n",
      "589/589 [==============================] - 384s 652ms/step - loss: 0.2160 - accuracy: 0.9408 - val_loss: 0.6480 - val_accuracy: 0.8387\n"
     ]
    }
   ],
   "source": [
    "model_history = model.fit_generator(Data_train, validation_data = Data_test, callbacks = [early_stop, rlrop],verbose = 1, epochs = 15)\n",
    "\n",
    "#saving the trained model weights as data file in .h5 format\n",
    "model.save_weights(\"birds_efficientnetb0_weights.h5\")"
   ]
  },
  {
   "cell_type": "code",
   "execution_count": 10,
   "id": "1500e918",
   "metadata": {
    "execution": {
     "iopub.execute_input": "2022-07-19T23:31:30.656988Z",
     "iopub.status.busy": "2022-07-19T23:31:30.656639Z",
     "iopub.status.idle": "2022-07-19T23:31:30.996601Z",
     "shell.execute_reply": "2022-07-19T23:31:30.995682Z"
    },
    "papermill": {
     "duration": 0.88686,
     "end_time": "2022-07-19T23:31:30.999264",
     "exception": false,
     "start_time": "2022-07-19T23:31:30.112404",
     "status": "completed"
    },
    "tags": []
   },
   "outputs": [
    {
     "data": {
      "image/png": "[encoded data removed]",
      "text/plain": [
       "<Figure size 1296x576 with 2 Axes>"
      ]
     },
     "metadata": {
      "needs_background": "light"
     },
     "output_type": "display_data"
    }
   ],
   "source": [
    "#plot to visualize the loss and accuracy against number of epochs\n",
    "plt.figure(figsize=(18,8))\n",
    "\n",
    "plt.suptitle('Loss and Accuracy Plots', fontsize=18)\n",
    "\n",
    "plt.subplot(1,2,1)\n",
    "plt.plot(model_history.history['loss'], label='Training Loss')\n",
    "plt.plot(model_history.history['val_loss'], label='Validation Loss')\n",
    "plt.legend()\n",
    "plt.xlabel('Number of epochs', fontsize=15)\n",
    "plt.ylabel('Loss', fontsize=15)\n",
    "\n",
    "plt.subplot(1,2,2)\n",
    "plt.plot(model_history.history['accuracy'], label='Train Accuracy')\n",
    "plt.plot(model_history.history['val_accuracy'], label='Validation Accuracy')\n",
    "plt.legend()\n",
    "plt.xlabel('Number of epochs', fontsize=14)\n",
    "plt.ylabel('Accuracy', fontsize=14)\n",
    "plt.show()"
   ]
  },
  {
   "cell_type": "code",
   "execution_count": null,
   "id": "7cd6c059",
   "metadata": {
    "papermill": {
     "duration": 0.537884,
     "end_time": "2022-07-19T23:31:32.133858",
     "exception": false,
     "start_time": "2022-07-19T23:31:31.595974",
     "status": "completed"
    },
    "tags": []
   },
   "outputs": [],
   "source": []
  }
 ],
 "metadata": {
  "kernelspec": {
   "display_name": "Python 3",
   "language": "python",
   "name": "python3"
  },
  "language_info": {
   "codemirror_mode": {
    "name": "ipython",
    "version": 3
   },
   "file_extension": ".py",
   "mimetype": "text/x-python",
   "name": "python",
   "nbconvert_exporter": "python",
   "pygments_lexer": "ipython3",
   "version": "3.7.12"
  },
  "papermill": {
   "default_parameters": {},
   "duration": 6094.373557,
   "end_time": "2022-07-19T23:31:36.122929",
   "environment_variables": {},
   "exception": null,
   "input_path": "__notebook__.ipynb",
   "output_path": "__notebook__.ipynb",
   "parameters": {},
   "start_time": "2022-07-19T21:50:01.749372",
   "version": "2.3.4"
  }
 },
 "nbformat": 4,
 "nbformat_minor": 5
}
